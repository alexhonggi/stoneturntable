{
 "cells": [
  {
   "cell_type": "code",
   "execution_count": 1,
   "id": "49cba710-b15a-499d-8ac1-6688d4ffb037",
   "metadata": {},
   "outputs": [],
   "source": [
    "from PIL import Image\n",
    "from numpy.fft import rfft2, irfft2\n",
    "import numpy as np\n",
    "from images2gif import writeGif"
   ]
  },
  {
   "cell_type": "code",
   "execution_count": 2,
   "id": "eb68abd8-f9fe-4624-857d-a9b3ad9a91c3",
   "metadata": {},
   "outputs": [],
   "source": [
    "def save_dims(ft, low, high, name):\n",
    "    ft2 = np.zeros_like(ft)\n",
    "    # copy the frequencies from low to high but all others stay zero.\n",
    "    ft2[low:high, low:high] = ft[low:high, low:high]\n",
    "    save(ft2, name)"
   ]
  },
  {
   "cell_type": "code",
   "execution_count": 3,
   "id": "cd8c54af-229f-437d-b3a9-d9f9b27d27af",
   "metadata": {},
   "outputs": [],
   "source": [
    "def save(ft, name):\n",
    "    rft = irfft2(ft)\n",
    "    img = Image.fromarray(rft)\n",
    "    img = img.convert('L')\n",
    "    img.save(name)"
   ]
  },
  {
   "cell_type": "code",
   "execution_count": 4,
   "id": "87f91736-51de-41c9-a013-05b896ccab78",
   "metadata": {},
   "outputs": [],
   "source": [
    "def main():\n",
    "    # Convert input into grayscale and save.\n",
    "    img = Image.open(\"./source/3.png\")\n",
    "    img = img.convert('L')\n",
    "    outpath = './output/2dft/'\n",
    "    img.save(outpath + 'input_gray.png')\n",
    "    # Do Fourier Transform on image.\n",
    "    ft = rfft2(img)\n",
    "    # Take only zeroth frequency and do Inverse FT and save.\n",
    "    save_dims(ft, 0, 1, outpath + 'output_0.png')\n",
    "    # Take first two frequencies in both directions.\n",
    "    save_dims(ft, 0, 2, outpath + 'output_1.png')\n",
    "    save_dims(ft, 0, 3, outpath + 'output_2.png')\n",
    "    # Take first 50% of frequencies.\n",
    "    x = min(ft.shape)\n",
    "    save_dims(ft, 0, x//2, outpath + 'output_50p.png')"
   ]
  },
  {
   "cell_type": "code",
   "execution_count": 5,
   "id": "61e795d4-eee5-4ae2-aa2b-a512c1382af9",
   "metadata": {},
   "outputs": [],
   "source": [
    "def generateGif():\n",
    "    ''' Generates images to be later converted to a gif.\n",
    "    This requires ImageMagick:\n",
    "    convert -delay 100 -loop 0 output_*.png animation.gif\n",
    "    '''\n",
    "    # Requires images2gif from code.google.com/p/visvis/source/browse/vvmovie/images2gif.py \n",
    "    # from images2gif import writeGif\n",
    "\n",
    "    img = Image.open(\"./source/3.png\")\n",
    "    img = img.convert('L')\n",
    "    outpath = './output/2dft/'\n",
    "    # Resize image before any calculation.\n",
    "    # size = (640,480)\n",
    "    size = img.size\n",
    "    img.thumbnail(size, Image.ANTIALIAS)\n",
    "    ft = rfft2(img)\n",
    "\n",
    "    images = []\n",
    "    for x in range(0, max(ft.shape)):\n",
    "        ft2 = np.zeros_like(ft)\n",
    "        ft2[0:x, 0:x] = ft[0:x,0:x]\n",
    "        rft = irfft2(ft2)\n",
    "        img_out = Image.fromarray(rft).convert('L')\n",
    "        fname = outpath + 'animation/output_%05d.jpg' %(x, )\n",
    "        img_out.save(fname, quality=60, optimize=True)\n",
    "\n",
    "    writeGif('animation.gif', images, duration=0.2)"
   ]
  },
  {
   "cell_type": "code",
   "execution_count": 6,
   "id": "ba27d2b6-af4d-4b48-ba39-c417602040fd",
   "metadata": {},
   "outputs": [
    {
     "name": "stderr",
     "output_type": "stream",
     "text": [
      "/tmp/ipykernel_1811858/3878645880.py:15: DeprecationWarning: ANTIALIAS is deprecated and will be removed in Pillow 10 (2023-07-01). Use LANCZOS or Resampling.LANCZOS instead.\n",
      "  img.thumbnail(size, Image.ANTIALIAS)\n"
     ]
    },
    {
     "name": "stdout",
     "output_type": "stream",
     "text": [
      "0 0\n"
     ]
    }
   ],
   "source": [
    "main()\n",
    "generateGif()"
   ]
  }
 ],
 "metadata": {
  "kernelspec": {
   "display_name": "Python [conda env:stt] *",
   "language": "python",
   "name": "conda-env-stt-py"
  },
  "language_info": {
   "codemirror_mode": {
    "name": "ipython",
    "version": 3
   },
   "file_extension": ".py",
   "mimetype": "text/x-python",
   "name": "python",
   "nbconvert_exporter": "python",
   "pygments_lexer": "ipython3",
   "version": "3.11.0"
  }
 },
 "nbformat": 4,
 "nbformat_minor": 5
}
