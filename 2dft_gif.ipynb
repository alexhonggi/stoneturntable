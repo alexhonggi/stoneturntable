{
 "cells": [
  {
   "cell_type": "code",
   "execution_count": 1,
   "id": "49cba710-b15a-499d-8ac1-6688d4ffb037",
   "metadata": {},
   "outputs": [],
   "source": [
    "from PIL import Image\n",
    "from numpy.fft import rfft2, irfft2\n",
    "import numpy as np\n",
    "from images2gif import writeGif"
   ]
  },
  {
   "cell_type": "code",
   "execution_count": 2,
   "id": "eb68abd8-f9fe-4624-857d-a9b3ad9a91c3",
   "metadata": {},
   "outputs": [],
   "source": [
    "def save_dims(ft, low, high, name):\n",
    "    ft2 = np.zeros_like(ft)\n",
    "    # copy the frequencies from low to high but all others stay zero.\n",
    "    ft2[low:high, low:high] = ft[low:high, low:high]\n",
    "    save(ft2, name)"
   ]
  },
  {
   "cell_type": "code",
   "execution_count": 3,
   "id": "cd8c54af-229f-437d-b3a9-d9f9b27d27af",
   "metadata": {},
   "outputs": [],
   "source": [
    "def save(ft, name):\n",
    "    rft = irfft2(ft)\n",
    "    img = Image.fromarray(rft)\n",
    "    img = img.convert('L')\n",
    "    img.save(name)"
   ]
  },
  {
   "cell_type": "code",
   "execution_count": 4,
   "id": "87f91736-51de-41c9-a013-05b896ccab78",
   "metadata": {},
   "outputs": [],
   "source": [
    "def main():\n",
    "    # Convert input into grayscale and save.\n",
    "    img = Image.open(\"./source/stt_screenshot.png\")\n",
    "    img = img.convert('L')\n",
    "    outpath = './output/2dft/'\n",
    "    img.save(outpath + 'input_gray.png')\n",
    "    # Do Fourier Transform on image.\n",
    "    ft = rfft2(img)\n",
    "    # Take only zeroth frequency and do Inverse FT and save.\n",
    "    save_dims(ft, 0, 1, outpath + 'output_0.png')\n",
    "    # Take first two frequencies in both directions.\n",
    "    save_dims(ft, 0, 2, outpath + 'output_1.png')\n",
    "    save_dims(ft, 0, 3, outpath + 'output_2.png')\n",
    "    # Take first 50% of frequencies.\n",
    "    x = min(ft.shape)\n",
    "    save_dims(ft, 0, x//2, outpath + 'output_50p.png')"
   ]
  },
  {
   "cell_type": "code",
   "execution_count": 5,
   "id": "61e795d4-eee5-4ae2-aa2b-a512c1382af9",
   "metadata": {},
   "outputs": [],
   "source": [
    "def generateGif():\n",
    "    ''' Generates images to be later converted to a gif.\n",
    "    This requires ImageMagick:\n",
    "    convert -delay 100 -loop 0 output_*.png animation.gif\n",
    "    '''\n",
    "    # Requires images2gif from code.google.com/p/visvis/source/browse/vvmovie/images2gif.py \n",
    "    # from images2gif import writeGif\n",
    "\n",
    "    img = Image.open(\"./source/stt_screenshot.png\")\n",
    "    img = img.convert('L')\n",
    "    outpath = './output/2dft/'\n",
    "    # Resize image before any calculation.\n",
    "    # size = (640,480)\n",
    "    size = img.size\n",
    "    img.thumbnail(size, Image.ANTIALIAS)\n",
    "    ft = rfft2(img)\n",
    "\n",
    "    images = []\n",
    "    for x in range(0, max(ft.shape)):\n",
    "        ft2 = np.zeros_like(ft)\n",
    "        ft2[0:x, 0:x] = ft[0:x,0:x]\n",
    "        rft = irfft2(ft2)\n",
    "        img_out = Image.fromarray(rft).convert('L')\n",
    "        fname = outpath + 'animation/output_%05d.jpg' %(x, )\n",
    "        img_out.save(fname, quality=60, optimize=True)\n",
    "\n",
    "    writeGif('animation.gif', images, duration=0.2)"
   ]
  },
  {
   "cell_type": "code",
   "execution_count": 6,
   "id": "ba27d2b6-af4d-4b48-ba39-c417602040fd",
   "metadata": {},
   "outputs": [
    {
     "name": "stderr",
     "output_type": "stream",
     "text": [
      "/tmp/ipykernel_1548720/2668318860.py:15: DeprecationWarning: ANTIALIAS is deprecated and will be removed in Pillow 10 (2023-07-01). Use LANCZOS or Resampling.LANCZOS instead.\n",
      "  img.thumbnail(size, Image.ANTIALIAS)\n"
     ]
    },
    {
     "ename": "ValueError",
     "evalue": "max() arg is an empty sequence",
     "output_type": "error",
     "traceback": [
      "\u001b[0;31m---------------------------------------------------------------------------\u001b[0m",
      "\u001b[0;31mValueError\u001b[0m                                Traceback (most recent call last)",
      "Cell \u001b[0;32mIn[6], line 2\u001b[0m\n\u001b[1;32m      1\u001b[0m main()\n\u001b[0;32m----> 2\u001b[0m \u001b[43mgenerateGif\u001b[49m\u001b[43m(\u001b[49m\u001b[43m)\u001b[49m\n",
      "Cell \u001b[0;32mIn[5], line 27\u001b[0m, in \u001b[0;36mgenerateGif\u001b[0;34m()\u001b[0m\n\u001b[1;32m     24\u001b[0m     fname \u001b[38;5;241m=\u001b[39m outpath \u001b[38;5;241m+\u001b[39m \u001b[38;5;124m'\u001b[39m\u001b[38;5;124manimation/output_\u001b[39m\u001b[38;5;132;01m%05d\u001b[39;00m\u001b[38;5;124m.jpg\u001b[39m\u001b[38;5;124m'\u001b[39m \u001b[38;5;241m%\u001b[39m(x, )\n\u001b[1;32m     25\u001b[0m     img_out\u001b[38;5;241m.\u001b[39msave(fname, quality\u001b[38;5;241m=\u001b[39m\u001b[38;5;241m60\u001b[39m, optimize\u001b[38;5;241m=\u001b[39m\u001b[38;5;28;01mTrue\u001b[39;00m)\n\u001b[0;32m---> 27\u001b[0m \u001b[43mwriteGif\u001b[49m\u001b[43m(\u001b[49m\u001b[38;5;124;43m'\u001b[39;49m\u001b[38;5;124;43manimation.gif\u001b[39;49m\u001b[38;5;124;43m'\u001b[39;49m\u001b[43m,\u001b[49m\u001b[43m \u001b[49m\u001b[43mimages\u001b[49m\u001b[43m,\u001b[49m\u001b[43m \u001b[49m\u001b[43mduration\u001b[49m\u001b[38;5;241;43m=\u001b[39;49m\u001b[38;5;241;43m0.2\u001b[39;49m\u001b[43m)\u001b[49m\n",
      "File \u001b[0;32m~/jupyter-server-workspace/stoneturntable/images2gif.py:578\u001b[0m, in \u001b[0;36mwriteGif\u001b[0;34m(filename, images, duration, repeat, dither, nq, subRectangles, dispose)\u001b[0m\n\u001b[1;32m    576\u001b[0m fp \u001b[38;5;241m=\u001b[39m \u001b[38;5;28mopen\u001b[39m(filename, \u001b[38;5;124m'\u001b[39m\u001b[38;5;124mwb\u001b[39m\u001b[38;5;124m'\u001b[39m)\n\u001b[1;32m    577\u001b[0m \u001b[38;5;28;01mtry\u001b[39;00m:\n\u001b[0;32m--> 578\u001b[0m     \u001b[43mgifWriter\u001b[49m\u001b[38;5;241;43m.\u001b[39;49m\u001b[43mwriteGifToFile\u001b[49m\u001b[43m(\u001b[49m\u001b[43mfp\u001b[49m\u001b[43m,\u001b[49m\u001b[43m \u001b[49m\u001b[43mimages\u001b[49m\u001b[43m,\u001b[49m\u001b[43m \u001b[49m\u001b[43mduration\u001b[49m\u001b[43m,\u001b[49m\u001b[43m \u001b[49m\u001b[43mloops\u001b[49m\u001b[43m,\u001b[49m\u001b[43m \u001b[49m\u001b[43mxy\u001b[49m\u001b[43m,\u001b[49m\u001b[43m \u001b[49m\u001b[43mdispose\u001b[49m\u001b[43m)\u001b[49m\n\u001b[1;32m    579\u001b[0m \u001b[38;5;28;01mfinally\u001b[39;00m:\n\u001b[1;32m    580\u001b[0m     fp\u001b[38;5;241m.\u001b[39mclose()\n",
      "File \u001b[0;32m~/jupyter-server-workspace/stoneturntable/images2gif.py:425\u001b[0m, in \u001b[0;36mGifWriter.writeGifToFile\u001b[0;34m(self, fp, images, durations, loops, xys, disposes)\u001b[0m\n\u001b[1;32m    422\u001b[0m     occur\u001b[38;5;241m.\u001b[39mappend(palettes\u001b[38;5;241m.\u001b[39mcount(palette))\n\u001b[1;32m    424\u001b[0m \u001b[38;5;66;03m# Select most-used palette as the global one (or first in case no max)\u001b[39;00m\n\u001b[0;32m--> 425\u001b[0m globalPalette \u001b[38;5;241m=\u001b[39m palettes[ occur\u001b[38;5;241m.\u001b[39mindex(\u001b[38;5;28;43mmax\u001b[39;49m\u001b[43m(\u001b[49m\u001b[43moccur\u001b[49m\u001b[43m)\u001b[49m) ]\n\u001b[1;32m    427\u001b[0m \u001b[38;5;66;03m# Init\u001b[39;00m\n\u001b[1;32m    428\u001b[0m frames \u001b[38;5;241m=\u001b[39m \u001b[38;5;241m0\u001b[39m\n",
      "\u001b[0;31mValueError\u001b[0m: max() arg is an empty sequence"
     ]
    }
   ],
   "source": [
    "main()\n",
    "generateGif()"
   ]
  }
 ],
 "metadata": {
  "kernelspec": {
   "display_name": "Python [conda env:stt] *",
   "language": "python",
   "name": "conda-env-stt-py"
  },
  "language_info": {
   "codemirror_mode": {
    "name": "ipython",
    "version": 3
   },
   "file_extension": ".py",
   "mimetype": "text/x-python",
   "name": "python",
   "nbconvert_exporter": "python",
   "pygments_lexer": "ipython3",
   "version": "3.11.0"
  }
 },
 "nbformat": 4,
 "nbformat_minor": 5
}
