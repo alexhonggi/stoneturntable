{
 "cells": [
  {
   "cell_type": "code",
   "execution_count": 1,
   "id": "8986477c-0d91-4ccc-a335-cb5a05d7ac81",
   "metadata": {},
   "outputs": [],
   "source": [
    "# Reference\n",
    "# Introduction to FAST: https://docs.opencv.org/3.4/df/d0c/tutorial_py_fast.html\n",
    "# FAST can be used in real-time applications"
   ]
  },
  {
   "cell_type": "code",
   "execution_count": 2,
   "id": "2bea678d-cebf-4697-afde-bf495e0cab0c",
   "metadata": {},
   "outputs": [],
   "source": [
    "import numpy as np\n",
    "import cv2 as cv\n",
    "from matplotlib import pyplot as plt"
   ]
  },
  {
   "cell_type": "code",
   "execution_count": 3,
   "id": "602c0062-7774-4d94-b650-3a55e39ca529",
   "metadata": {},
   "outputs": [
    {
     "name": "stdin",
     "output_type": "stream",
     "text": [
      "이미지의 이름을 입력하세요:  test3.jpg\n"
     ]
    }
   ],
   "source": [
    "image_name = input(\"이미지의 이름을 입력하세요: \")\n",
    "image_path = './source/' + image_name\n",
    "img = cv.imread(image_path)\n",
    "gray = cv.cvtColor(img, cv.COLOR_BGR2GRAY)"
   ]
  },
  {
   "cell_type": "code",
   "execution_count": 4,
   "id": "fb80626b-ab5e-4383-abf6-b37bb75b53d1",
   "metadata": {},
   "outputs": [],
   "source": [
    "fast = cv.FastFeatureDetector_create()\n",
    "kp = fast.detect(gray, None)\n",
    "img2 = cv.drawKeypoints(gray, kp, None, color=(255, 0, 0))"
   ]
  },
  {
   "cell_type": "code",
   "execution_count": 5,
   "id": "5cb4e2eb-86b6-4c8f-8a04-9afe9aac40e7",
   "metadata": {},
   "outputs": [
    {
     "name": "stdout",
     "output_type": "stream",
     "text": [
      "Threshold: 10\n",
      "nonmaxSuppression:True\n",
      "neighborhood: 2\n",
      "Total Keypoints with nonmaxSuppression: 2467\n"
     ]
    }
   ],
   "source": [
    "# Print all default params\n",
    "print( \"Threshold: {}\".format(fast.getThreshold()) )\n",
    "print( \"nonmaxSuppression:{}\".format(fast.getNonmaxSuppression()) )\n",
    "print( \"neighborhood: {}\".format(fast.getType()) )\n",
    "print( \"Total Keypoints with nonmaxSuppression: {}\".format(len(kp)) )  "
   ]
  },
  {
   "cell_type": "code",
   "execution_count": 6,
   "id": "38d0df29-0970-4c62-a051-943178f5b8c0",
   "metadata": {},
   "outputs": [
    {
     "data": {
      "text/plain": [
       "True"
      ]
     },
     "execution_count": 6,
     "metadata": {},
     "output_type": "execute_result"
    }
   ],
   "source": [
    "outpath = './output/fast/fast_'\n",
    "cv.imwrite(outpath + image_name, img2)"
   ]
  },
  {
   "cell_type": "code",
   "execution_count": 7,
   "id": "cfdeb014-3e76-4071-8e91-088742da7ad3",
   "metadata": {},
   "outputs": [
    {
     "name": "stdout",
     "output_type": "stream",
     "text": [
      "Total Keypoints without nonmaxSuppression: 4695\n"
     ]
    },
    {
     "data": {
      "text/plain": [
       "True"
      ]
     },
     "execution_count": 7,
     "metadata": {},
     "output_type": "execute_result"
    }
   ],
   "source": [
    "# Disable nonmaxSuppression\n",
    "fast.setNonmaxSuppression(0)\n",
    "kp = fast.detect(img, None)\n",
    "print( \"Total Keypoints without nonmaxSuppression: {}\".format(len(kp)) )\n",
    "img3 = cv.drawKeypoints(img, kp, None, color=(255,0,0))\n",
    "cv.imwrite(outpath + 'nosup_' + image_name, img3)"
   ]
  }
 ],
 "metadata": {
  "kernelspec": {
   "display_name": "Python [conda env:stt] *",
   "language": "python",
   "name": "conda-env-stt-py"
  },
  "language_info": {
   "codemirror_mode": {
    "name": "ipython",
    "version": 3
   },
   "file_extension": ".py",
   "mimetype": "text/x-python",
   "name": "python",
   "nbconvert_exporter": "python",
   "pygments_lexer": "ipython3",
   "version": "3.11.0"
  }
 },
 "nbformat": 4,
 "nbformat_minor": 5
}
