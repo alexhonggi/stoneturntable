{
 "cells": [
  {
   "cell_type": "code",
   "execution_count": null,
   "id": "eb386ead-3027-4d83-8aee-1f867f72a3f7",
   "metadata": {},
   "outputs": [],
   "source": [
    "import librosa\n",
    "import librosa.display\n",
    "import matplotlib.pyplot as plt\n",
    "import IPython.display as ipd\n",
    "import numpy as np"
   ]
  },
  {
   "cell_type": "code",
   "execution_count": null,
   "id": "cf6216ad-a2a3-4a98-a880-dacb0aec635a",
   "metadata": {},
   "outputs": [],
   "source": [
    "fs = 8000\n",
    "dur = 2\n",
    "freq =  np.linspace(220, 4000, dur * fs)\n",
    "\n",
    "x1 = np.sin(2*np.pi*freq*np.arange(dur*fs)/fs);\n",
    "\n",
    "ipd.Audio(x1, rate = fs)"
   ]
  },
  {
   "cell_type": "code",
   "execution_count": null,
   "id": "de11452c-cf7c-4f11-85c4-8c7c2eb0ea31",
   "metadata": {},
   "outputs": [],
   "source": [
    "audio_path = 'fileName.wav'\n",
    "y, sr = librosa.load(audio_path)\n",
    "\n",
    "stft_result = librose.stft(y, n_fft = 4096, win_length = 4096, hop_length = 512)\n",
    "D = np.abs(stft_result)\n",
    "S_dB = librosa.power_to_db(D, ref = np.max)\n",
    "librosa.display.specshow(S_dB, sr=sr, hop_length=1024, y_axis='mel', x_axis='time', cmap=cm.jet)\n",
    "plt.colorbar(format='%2.0f dB')\n",
    "plt.show()"
   ]
  },
  {
   "cell_type": "code",
   "execution_count": null,
   "id": "a9b5408f-e798-4d50-b5c1-9a4087878621",
   "metadata": {},
   "outputs": [],
   "source": [
    "D = np.abs(librosa.stft(y, n_fft=n_fft, win_length = win_length, hop_length=hop_length))\n",
    "mel_spec = librosa.feature.melspectrogram(S=D, sr=sr, n_mels=n_mels, hop_length=hop_length, win_length=win_length)\n",
    "librosa.display.specshow(librosa.amplitude_to_db(mel_spec, ref=0.00002), sr=sr, hop_length = hop_length, y_axis='mel', x_axis='time', cmap = cm.jet)\n",
    "plt.colorbar(format='%2.0f dB')\n",
    "plt.show()"
   ]
  }
 ],
 "metadata": {
  "kernelspec": {
   "display_name": "Python [conda env:stt] *",
   "language": "python",
   "name": "conda-env-stt-py"
  },
  "language_info": {
   "codemirror_mode": {
    "name": "ipython",
    "version": 3
   },
   "file_extension": ".py",
   "mimetype": "text/x-python",
   "name": "python",
   "nbconvert_exporter": "python",
   "pygments_lexer": "ipython3",
   "version": "3.11.0"
  }
 },
 "nbformat": 4,
 "nbformat_minor": 5
}
