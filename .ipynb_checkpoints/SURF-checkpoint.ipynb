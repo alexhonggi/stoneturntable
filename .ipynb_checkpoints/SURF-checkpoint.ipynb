{
 "cells": [
  {
   "cell_type": "code",
   "execution_count": 1,
   "id": "8986477c-0d91-4ccc-a335-cb5a05d7ac81",
   "metadata": {},
   "outputs": [],
   "source": [
    "# Reference\n",
    "# Introduction to SIFT: https://docs.opencv.org/3.4/df/dd2/tutorial_py_surf_intro.html"
   ]
  },
  {
   "cell_type": "code",
   "execution_count": 2,
   "id": "2bea678d-cebf-4697-afde-bf495e0cab0c",
   "metadata": {},
   "outputs": [],
   "source": [
    "import numpy as np\n",
    "import cv2 as cv"
   ]
  },
  {
   "cell_type": "code",
   "execution_count": 3,
   "id": "602c0062-7774-4d94-b650-3a55e39ca529",
   "metadata": {},
   "outputs": [
    {
     "name": "stdin",
     "output_type": "stream",
     "text": [
      "이미지의 이름을 입력하세요:  Granite_softgreen.jpg\n"
     ]
    }
   ],
   "source": [
    "image_name = input(\"이미지의 이름을 입력하세요: \")\n",
    "image_path = './source/' + image_name\n",
    "img = cv.imread(image_path)\n",
    "gray = cv.cvtColor(img, cv.COLOR_BGR2GRAY)"
   ]
  },
  {
   "cell_type": "code",
   "execution_count": 4,
   "id": "fb80626b-ab5e-4383-abf6-b37bb75b53d1",
   "metadata": {},
   "outputs": [],
   "source": [
    "surf = cv.xfeatures2d.SURF_create(400)\n",
    "kp, des = surf.detectAndCompute(gray, None)\n",
    "img2=cv.drawKeypoints(gray,kp,None, (255, 0, 0), 4)"
   ]
  },
  {
   "cell_type": "code",
   "execution_count": 5,
   "id": "38d0df29-0970-4c62-a051-943178f5b8c0",
   "metadata": {},
   "outputs": [
    {
     "data": {
      "text/plain": [
       "True"
      ]
     },
     "execution_count": 5,
     "metadata": {},
     "output_type": "execute_result"
    }
   ],
   "source": [
    "outpath = './output/sift/sift_'\n",
    "cv.imwrite(outpath + image_name ,img2)"
   ]
  }
 ],
 "metadata": {
  "kernelspec": {
   "display_name": "Python [conda env:stt] *",
   "language": "python",
   "name": "conda-env-stt-py"
  },
  "language_info": {
   "codemirror_mode": {
    "name": "ipython",
    "version": 3
   },
   "file_extension": ".py",
   "mimetype": "text/x-python",
   "name": "python",
   "nbconvert_exporter": "python",
   "pygments_lexer": "ipython3",
   "version": "3.11.0"
  }
 },
 "nbformat": 4,
 "nbformat_minor": 5
}
